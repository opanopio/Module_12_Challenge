{
 "cells": [
  {
   "cell_type": "markdown",
   "metadata": {},
   "source": [
    "1. How many months exist on Mars?\n",
    "- 12 Months"
   ]
  },
  {
   "cell_type": "markdown",
   "metadata": {},
   "source": [
    "2. How many Martian (and not Earth) days worth of data exist in the scraped dataset?\n",
    "- 1867 days\n"
   ]
  },
  {
   "cell_type": "markdown",
   "metadata": {},
   "source": [
    "3. What are the coldest and the warmest months on Mars (at the location of Curiosity)? \n",
    "- Martian March is the coldest month\n",
    "- Martian August is the warmest month"
   ]
  },
  {
   "cell_type": "markdown",
   "metadata": {},
   "source": [
    "4. Which months have the lowest and the highest atmospheric pressure on Mars? \n",
    "- Martian June is the lowest atmospheric pressure\n",
    "- Martian September is the highest atmospheric pressure"
   ]
  },
  {
   "cell_type": "markdown",
   "metadata": {},
   "source": [
    "5. About how many terrestrial (Earth) days exist in a Martian year? That is, in the time that Mars circles the Sun once, how many days elapse on Earth? \n",
    "Visually estimate the result by plotting the daily minimum temperature.\n",
    "- 630 earth days (estimated) = 1 martian year"
   ]
  }
 ],
 "metadata": {
  "language_info": {
   "name": "python"
  },
  "orig_nbformat": 4
 },
 "nbformat": 4,
 "nbformat_minor": 2
}
